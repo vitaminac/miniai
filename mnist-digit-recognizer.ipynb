{
 "cells": [
  {
   "cell_type": "code",
   "execution_count": 1,
   "id": "58131939",
   "metadata": {
    "_cell_guid": "b1076dfc-b9ad-4769-8c92-a6c4dae69d19",
    "_kg_hide-input": true,
    "_uuid": "8f2839f25d086af736a60e9eeb907d3b93b6e0e5",
    "execution": {
     "iopub.execute_input": "2024-02-25T22:13:35.925775Z",
     "iopub.status.busy": "2024-02-25T22:13:35.924941Z",
     "iopub.status.idle": "2024-02-25T22:13:45.391242Z",
     "shell.execute_reply": "2024-02-25T22:13:45.389955Z"
    },
    "papermill": {
     "duration": 9.478149,
     "end_time": "2024-02-25T22:13:45.394456",
     "exception": false,
     "start_time": "2024-02-25T22:13:35.916307",
     "status": "completed"
    },
    "tags": []
   },
   "outputs": [],
   "source": [
    "# This Python 3 environment comes with many helpful analytics libraries installed\n",
    "# It is defined by the kaggle/python Docker image: https://github.com/kaggle/docker-python\n",
    "# For example, here's several helpful packages to load\n",
    "import os\n",
    "import platform\n",
    "import sys\n",
    "\n",
    "# linear algebra\n",
    "import numpy as np\n",
    "# data processing, CSV file I/O (e.g. pd.read_csv)\n",
    "import pandas as pd\n",
    "# plot\n",
    "import matplotlib\n",
    "import matplotlib.pyplot as plt\n",
    "# machine learning\n",
    "import sklearn\n",
    "# deep learning\n",
    "import torch\n",
    "import torchvision"
   ]
  },
  {
   "cell_type": "code",
   "execution_count": 2,
   "id": "0a5cb97a",
   "metadata": {
    "_kg_hide-input": true,
    "execution": {
     "iopub.execute_input": "2024-02-25T22:13:45.409774Z",
     "iopub.status.busy": "2024-02-25T22:13:45.408538Z",
     "iopub.status.idle": "2024-02-25T22:13:45.418709Z",
     "shell.execute_reply": "2024-02-25T22:13:45.417244Z"
    },
    "papermill": {
     "duration": 0.020249,
     "end_time": "2024-02-25T22:13:45.421324",
     "exception": false,
     "start_time": "2024-02-25T22:13:45.401075",
     "status": "completed"
    },
    "tags": []
   },
   "outputs": [
    {
     "name": "stdout",
     "output_type": "stream",
     "text": [
      "Operating system:  Linux-5.15.133+-x86_64-with-glibc2.31 #1 SMP Tue Dec 19 13:14:11 UTC 2023\n",
      "Python version 3.10.13 | packaged by conda-forge | (main, Dec 23 2023, 15:36:39) [GCC 12.3.0]\n",
      "Pandas version:  2.2.0\n",
      "Matplotlib version:  3.7.4\n",
      "Sklearn version:  1.2.2\n",
      "Pytorch version:  2.1.2+cpu\n"
     ]
    }
   ],
   "source": [
    "print(\"Operating system: \", platform.platform(), platform.version())\n",
    "print(\"Python version\", sys.version)\n",
    "print(\"Pandas version: \", pd.__version__)\n",
    "print(\"Matplotlib version: \", matplotlib.__version__)\n",
    "print(\"Sklearn version: \", sklearn.__version__)\n",
    "print(\"Pytorch version: \", torch.__version__)"
   ]
  },
  {
   "cell_type": "code",
   "execution_count": 3,
   "id": "90fdaced",
   "metadata": {
    "_kg_hide-input": true,
    "execution": {
     "iopub.execute_input": "2024-02-25T22:13:45.435333Z",
     "iopub.status.busy": "2024-02-25T22:13:45.434963Z",
     "iopub.status.idle": "2024-02-25T22:13:45.443698Z",
     "shell.execute_reply": "2024-02-25T22:13:45.442460Z"
    },
    "papermill": {
     "duration": 0.01892,
     "end_time": "2024-02-25T22:13:45.446311",
     "exception": false,
     "start_time": "2024-02-25T22:13:45.427391",
     "status": "completed"
    },
    "tags": []
   },
   "outputs": [
    {
     "name": "stdout",
     "output_type": "stream",
     "text": [
      "Using device: cpu\n"
     ]
    }
   ],
   "source": [
    "if torch.cuda.is_available():\n",
    "    device = torch.device(\"cuda\")\n",
    "    print(torch.cuda.get_device_name(0))\n",
    "    print('Memory Usage:')\n",
    "    print('Allocated:', round(torch.cuda.memory_allocated(0)/1024**3,1), 'GB')\n",
    "    print('Cached:   ', round(torch.cuda.memory_reserved(0)/1024**3,1), 'GB')\n",
    "elif torch.backends.mps.is_available() and torch.backends.mps.is_built():\n",
    "    device = torch.device(\"mps\")\n",
    "else:\n",
    "    device = torch.device(\"cpu\")\n",
    "\n",
    "print('Using device:', device)"
   ]
  },
  {
   "cell_type": "code",
   "execution_count": 4,
   "id": "e266b515",
   "metadata": {
    "execution": {
     "iopub.execute_input": "2024-02-25T22:13:45.460388Z",
     "iopub.status.busy": "2024-02-25T22:13:45.459625Z",
     "iopub.status.idle": "2024-02-25T22:13:45.465501Z",
     "shell.execute_reply": "2024-02-25T22:13:45.464387Z"
    },
    "papermill": {
     "duration": 0.015647,
     "end_time": "2024-02-25T22:13:45.467955",
     "exception": false,
     "start_time": "2024-02-25T22:13:45.452308",
     "status": "completed"
    },
    "tags": []
   },
   "outputs": [],
   "source": [
    "TARGET = \"label\"\n",
    "RANDOM_STATE = 0\n",
    "TRAIN_VS_VALIDATION_SET_PERCENTANGE = 0.8\n",
    "BATCH_SIZE = 16\n",
    "NUMBER_OF_EPOCHS = 5"
   ]
  },
  {
   "cell_type": "code",
   "execution_count": 5,
   "id": "132494b7",
   "metadata": {
    "execution": {
     "iopub.execute_input": "2024-02-25T22:13:45.481793Z",
     "iopub.status.busy": "2024-02-25T22:13:45.481360Z",
     "iopub.status.idle": "2024-02-25T22:13:52.971717Z",
     "shell.execute_reply": "2024-02-25T22:13:52.970479Z"
    },
    "papermill": {
     "duration": 7.500827,
     "end_time": "2024-02-25T22:13:52.974857",
     "exception": false,
     "start_time": "2024-02-25T22:13:45.474030",
     "status": "completed"
    },
    "tags": []
   },
   "outputs": [],
   "source": [
    "# Input data files are available in the read-only \"../input/\" directory\n",
    "dataset_train_full_df = pd.read_csv(\"/kaggle/input/digit-recognizer/train.csv\",dtype = np.float32)\n",
    "X_test_df = pd.read_csv(\"/kaggle/input/digit-recognizer/test.csv\",dtype = np.float32)\n",
    "# Separate target from features\n",
    "X_train_full_df = dataset_train_full_df.drop([TARGET], axis=1)\n",
    "y_train_full_s = dataset_train_full_df[TARGET]"
   ]
  },
  {
   "cell_type": "code",
   "execution_count": 6,
   "id": "0a777d95",
   "metadata": {
    "execution": {
     "iopub.execute_input": "2024-02-25T22:13:52.990488Z",
     "iopub.status.busy": "2024-02-25T22:13:52.989451Z",
     "iopub.status.idle": "2024-02-25T22:13:53.292558Z",
     "shell.execute_reply": "2024-02-25T22:13:53.291313Z"
    },
    "papermill": {
     "duration": 0.31447,
     "end_time": "2024-02-25T22:13:53.295966",
     "exception": false,
     "start_time": "2024-02-25T22:13:52.981496",
     "status": "completed"
    },
    "tags": []
   },
   "outputs": [],
   "source": [
    "mean = 0.1307\n",
    "std = 0.3081\n",
    "X_train_full_np = (X_train_full_df.to_numpy().reshape(-1, 1, 28, 28)/255-mean)/std\n",
    "X_train_full_tf = torch.from_numpy(X_train_full_np)\n",
    "X_test_np = (X_test_df.to_numpy().reshape(-1, 1, 28, 28)/255-mean)/std\n",
    "X_test_tf = torch.from_numpy(X_test_np)\n",
    "y_train_full_tf = torch.from_numpy(y_train_full_s.to_numpy(dtype=\"int\"))\n",
    "y_train_full_tf_onehot = torch.nn.functional.one_hot(y_train_full_tf).float()"
   ]
  },
  {
   "cell_type": "code",
   "execution_count": 7,
   "id": "deceff32",
   "metadata": {
    "execution": {
     "iopub.execute_input": "2024-02-25T22:13:53.312427Z",
     "iopub.status.busy": "2024-02-25T22:13:53.312007Z",
     "iopub.status.idle": "2024-02-25T22:13:53.814719Z",
     "shell.execute_reply": "2024-02-25T22:13:53.813731Z"
    },
    "papermill": {
     "duration": 0.513879,
     "end_time": "2024-02-25T22:13:53.817487",
     "exception": false,
     "start_time": "2024-02-25T22:13:53.303608",
     "status": "completed"
    },
    "tags": []
   },
   "outputs": [],
   "source": [
    "from sklearn.model_selection import train_test_split\n",
    "\n",
    "# Break off validation set from training data\n",
    "X_train_tf, X_valid_tf, y_train_tf_onehot, y_valid_tf_onehot = train_test_split(\n",
    "    X_train_full_tf, y_train_full_tf_onehot,\n",
    "    train_size=TRAIN_VS_VALIDATION_SET_PERCENTANGE,\n",
    "    # shuffle the dataset to ensure the traning set is representive of the overall distribution of the data,\n",
    "    # this would be useful e.g. the input is sorted by target label or specific feature.\n",
    "    shuffle=True,\n",
    "    random_state=RANDOM_STATE\n",
    ")"
   ]
  },
  {
   "cell_type": "code",
   "execution_count": 8,
   "id": "7c38a026",
   "metadata": {
    "execution": {
     "iopub.execute_input": "2024-02-25T22:13:53.834334Z",
     "iopub.status.busy": "2024-02-25T22:13:53.833903Z",
     "iopub.status.idle": "2024-02-25T22:13:53.840323Z",
     "shell.execute_reply": "2024-02-25T22:13:53.838876Z"
    },
    "papermill": {
     "duration": 0.017645,
     "end_time": "2024-02-25T22:13:53.842741",
     "exception": false,
     "start_time": "2024-02-25T22:13:53.825096",
     "status": "completed"
    },
    "tags": []
   },
   "outputs": [],
   "source": [
    "def display_img(img):\n",
    "    PIL_RGB_image = img.permute(1, 2, 0)\n",
    "    img = (PIL_RGB_image * std + mean)\n",
    "    plt.imshow(img, cmap=\"gray\", vmin=0, vmax=1)"
   ]
  },
  {
   "cell_type": "code",
   "execution_count": 9,
   "id": "3c9e8f02",
   "metadata": {
    "execution": {
     "iopub.execute_input": "2024-02-25T22:13:53.857350Z",
     "iopub.status.busy": "2024-02-25T22:13:53.856932Z",
     "iopub.status.idle": "2024-02-25T22:13:54.118293Z",
     "shell.execute_reply": "2024-02-25T22:13:54.117459Z"
    },
    "papermill": {
     "duration": 0.271462,
     "end_time": "2024-02-25T22:13:54.120497",
     "exception": false,
     "start_time": "2024-02-25T22:13:53.849035",
     "status": "completed"
    },
    "tags": []
   },
   "outputs": [
    {
     "name": "stdout",
     "output_type": "stream",
     "text": [
      "tensor(6)\n"
     ]
    },
    {
     "data": {
      "image/png": "[encoded data removed]",
      "text/plain": [
       "<Figure size 640x480 with 1 Axes>"
      ]
     },
     "metadata": {},
     "output_type": "display_data"
    }
   ],
   "source": [
    "display_img(X_train_tf[0])\n",
    "print(y_train_tf_onehot[0].argmax())"
   ]
  },
  {
   "cell_type": "code",
   "execution_count": 10,
   "id": "9468b216",
   "metadata": {
    "execution": {
     "iopub.execute_input": "2024-02-25T22:13:54.136093Z",
     "iopub.status.busy": "2024-02-25T22:13:54.135280Z",
     "iopub.status.idle": "2024-02-25T22:13:54.142140Z",
     "shell.execute_reply": "2024-02-25T22:13:54.141299Z"
    },
    "papermill": {
     "duration": 0.017653,
     "end_time": "2024-02-25T22:13:54.144735",
     "exception": false,
     "start_time": "2024-02-25T22:13:54.127082",
     "status": "completed"
    },
    "tags": []
   },
   "outputs": [],
   "source": [
    "from torch.utils.data import TensorDataset, DataLoader\n",
    "\n",
    "train_dataset = TensorDataset(X_train_tf, y_train_tf_onehot)\n",
    "valid_dataset = TensorDataset(X_valid_tf, y_valid_tf_onehot)\n",
    "train_loader = DataLoader(train_dataset, batch_size = BATCH_SIZE, shuffle = False)\n",
    "valid_loader = DataLoader(valid_dataset, batch_size = BATCH_SIZE, shuffle = False)"
   ]
  },
  {
   "cell_type": "code",
   "execution_count": 11,
   "id": "a1f2922b",
   "metadata": {
    "execution": {
     "iopub.execute_input": "2024-02-25T22:13:54.159952Z",
     "iopub.status.busy": "2024-02-25T22:13:54.159503Z",
     "iopub.status.idle": "2024-02-25T22:13:54.171531Z",
     "shell.execute_reply": "2024-02-25T22:13:54.170136Z"
    },
    "papermill": {
     "duration": 0.023878,
     "end_time": "2024-02-25T22:13:54.175175",
     "exception": false,
     "start_time": "2024-02-25T22:13:54.151297",
     "status": "completed"
    },
    "tags": []
   },
   "outputs": [],
   "source": [
    "# https://github.com/pytorch/examples/blob/main/mnist/main.py\n",
    "\n",
    "import torch.nn as nn\n",
    "import torch.nn.functional as F\n",
    "\n",
    "class Net(nn.Module):\n",
    "    def __init__(self):\n",
    "        super(Net, self).__init__()\n",
    "        self.conv1 = nn.Conv2d(in_channels=1, out_channels=32, kernel_size=5, stride=1, padding=0)\n",
    "        self.conv2 = nn.Conv2d(32, 64, 3, 1)\n",
    "        self.dropout1 = nn.Dropout(0.25)\n",
    "        self.dropout2 = nn.Dropout(0.5)\n",
    "        self.fc1 = nn.Linear(7744, 128)\n",
    "        self.fc2 = nn.Linear(128, 10)\n",
    "\n",
    "    def forward(self, x):\n",
    "        x = self.conv1(x)\n",
    "        x = F.relu(x)\n",
    "        x = self.conv2(x)\n",
    "        x = F.relu(x)\n",
    "        x = F.max_pool2d(x, 2)\n",
    "        x = self.dropout1(x)\n",
    "        x = torch.flatten(x, 1)\n",
    "        x = self.fc1(x)\n",
    "        x = F.relu(x)\n",
    "        x = self.dropout2(x)\n",
    "        x = self.fc2(x)\n",
    "        output = F.log_softmax(x, dim=1)\n",
    "        return output"
   ]
  },
  {
   "cell_type": "code",
   "execution_count": 12,
   "id": "1fbffc2e",
   "metadata": {
    "execution": {
     "iopub.execute_input": "2024-02-25T22:13:54.191959Z",
     "iopub.status.busy": "2024-02-25T22:13:54.190551Z",
     "iopub.status.idle": "2024-02-25T22:13:54.210457Z",
     "shell.execute_reply": "2024-02-25T22:13:54.209232Z"
    },
    "papermill": {
     "duration": 0.030857,
     "end_time": "2024-02-25T22:13:54.213356",
     "exception": false,
     "start_time": "2024-02-25T22:13:54.182499",
     "status": "completed"
    },
    "tags": []
   },
   "outputs": [],
   "source": [
    "import torch.optim as optim\n",
    "\n",
    "model = Net()\n",
    "optimizer = optim.SGD(model.parameters(), lr=0.1)\n",
    "criterion = nn.CrossEntropyLoss()"
   ]
  },
  {
   "cell_type": "code",
   "execution_count": 13,
   "id": "083cf0b8",
   "metadata": {
    "execution": {
     "iopub.execute_input": "2024-02-25T22:13:54.229670Z",
     "iopub.status.busy": "2024-02-25T22:13:54.229207Z",
     "iopub.status.idle": "2024-02-25T22:18:08.206038Z",
     "shell.execute_reply": "2024-02-25T22:18:08.204773Z"
    },
    "papermill": {
     "duration": 253.994385,
     "end_time": "2024-02-25T22:18:08.215028",
     "exception": false,
     "start_time": "2024-02-25T22:13:54.220643",
     "status": "completed"
    },
    "tags": []
   },
   "outputs": [
    {
     "name": "stdout",
     "output_type": "stream",
     "text": [
      "tensor(557.2449, grad_fn=<AddBackward0>)\n",
      "tensor(244.3475, grad_fn=<AddBackward0>)\n",
      "tensor(189.0154, grad_fn=<AddBackward0>)\n",
      "tensor(161.0804, grad_fn=<AddBackward0>)\n",
      "tensor(144.8347, grad_fn=<AddBackward0>)\n"
     ]
    }
   ],
   "source": [
    "count = 0\n",
    "loss_evolution = []\n",
    "for epoch in range(NUMBER_OF_EPOCHS):\n",
    "    epoch_loss = 0\n",
    "    for batch_index, batch in enumerate(train_loader):\n",
    "        sample_images, sample_labels = batch\n",
    "        optimizer.zero_grad()\n",
    "        predicted_labels = model(sample_images)\n",
    "        loss = criterion(predicted_labels, sample_labels)\n",
    "        loss.backward()\n",
    "        optimizer.step()\n",
    "        epoch_loss += loss\n",
    "    print(epoch_loss)"
   ]
  },
  {
   "cell_type": "code",
   "execution_count": 14,
   "id": "6e40436e",
   "metadata": {
    "execution": {
     "iopub.execute_input": "2024-02-25T22:18:08.231854Z",
     "iopub.status.busy": "2024-02-25T22:18:08.230922Z",
     "iopub.status.idle": "2024-02-25T22:18:31.075968Z",
     "shell.execute_reply": "2024-02-25T22:18:31.074493Z"
    },
    "papermill": {
     "duration": 22.857315,
     "end_time": "2024-02-25T22:18:31.079360",
     "exception": false,
     "start_time": "2024-02-25T22:18:08.222045",
     "status": "completed"
    },
    "tags": []
   },
   "outputs": [],
   "source": [
    "y_test_pred_tf_onehot = model(X_test_tf)\n",
    "y_test_pred_tf = y_test_pred_tf_onehot.argmax(axis=1)"
   ]
  },
  {
   "cell_type": "code",
   "execution_count": 15,
   "id": "d6212753",
   "metadata": {
    "execution": {
     "iopub.execute_input": "2024-02-25T22:18:31.098459Z",
     "iopub.status.busy": "2024-02-25T22:18:31.098049Z",
     "iopub.status.idle": "2024-02-25T22:18:31.142164Z",
     "shell.execute_reply": "2024-02-25T22:18:31.140951Z"
    },
    "papermill": {
     "duration": 0.055727,
     "end_time": "2024-02-25T22:18:31.145189",
     "exception": false,
     "start_time": "2024-02-25T22:18:31.089462",
     "status": "completed"
    },
    "tags": []
   },
   "outputs": [],
   "source": [
    "# You can write up to 20GB to the current directory (/kaggle/working/) that gets preserved as output when you create a version using \"Save & Run All\" \n",
    "# You can also write temporary files to /kaggle/temp/, but they won't be saved outside of the current session\n",
    "df = pd.DataFrame(y_test_pred_tf, columns = ['Label'])\n",
    "df.index.name='ImageId'\n",
    "df.index += 1\n",
    "df.to_csv('/kaggle/working/results.csv', header=True)"
   ]
  }
 ],
 "metadata": {
  "kaggle": {
   "accelerator": "none",
   "dataSources": [
    {
     "databundleVersionId": 861823,
     "sourceId": 3004,
     "sourceType": "competition"
    }
   ],
   "isGpuEnabled": false,
   "isInternetEnabled": false,
   "language": "python",
   "sourceType": "notebook"
  },
  "kernelspec": {
   "display_name": "Python 3",
   "language": "python",
   "name": "python3"
  },
  "language_info": {
   "codemirror_mode": {
    "name": "ipython",
    "version": 3
   },
   "file_extension": ".py",
   "mimetype": "text/x-python",
   "name": "python",
   "nbconvert_exporter": "python",
   "pygments_lexer": "ipython3",
   "version": "3.10.13"
  },
  "papermill": {
   "default_parameters": {},
   "duration": 301.356763,
   "end_time": "2024-02-25T22:18:34.175813",
   "environment_variables": {},
   "exception": null,
   "input_path": "__notebook__.ipynb",
   "output_path": "__notebook__.ipynb",
   "parameters": {},
   "start_time": "2024-02-25T22:13:32.819050",
   "version": "2.5.0"
  }
 },
 "nbformat": 4,
 "nbformat_minor": 5
}
